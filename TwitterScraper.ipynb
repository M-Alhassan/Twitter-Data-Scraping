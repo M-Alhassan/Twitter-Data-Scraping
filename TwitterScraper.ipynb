{
 "cells": [
  {
   "cell_type": "markdown",
   "metadata": {},
   "source": [
    "# Twitter Data Scraping Using Python"
   ]
  },
  {
   "cell_type": "code",
   "execution_count": 303,
   "metadata": {},
   "outputs": [],
   "source": [
    "import twint\n",
    "import nest_asyncio\n",
    "nest_asyncio.apply()"
   ]
  },
  {
   "cell_type": "markdown",
   "metadata": {},
   "source": [
    "insert the keywords/text you would like to search for in twitter"
   ]
  },
  {
   "cell_type": "code",
   "execution_count": 304,
   "metadata": {},
   "outputs": [],
   "source": [
    "# Set up TWINT config\n",
    "c = twint.Config()\n",
    "\n",
    "text = 'insert text here'   # text to search for in twitter"
   ]
  },
  {
   "cell_type": "markdown",
   "metadata": {},
   "source": [
    "You can specify tweet details using various functions provided with twint, the following are some examples. You can add/remove as you like."
   ]
  },
  {
   "cell_type": "code",
   "execution_count": 305,
   "metadata": {},
   "outputs": [],
   "source": [
    "c.Search = text\n",
    "\n",
    "# Custom output format\n",
    "c.Username = 'username'     # from specific twitter account\n",
    "c.Min_likes = 0             # minimum number of likes\n",
    "c.Min_replies = 0           # minimum number of replies\n",
    "c.Min_retweets = 0          # minimum number of retweets\n",
    "c.Since = '2020-1-1'        # since a specific date (YYYY-MM-DD)\n",
    "c.Until = '2022-1-1'        # upto a specific date (YYY-MMM-DD)\n",
    "c.Custom[\"user\"] = [\"bio\"]  # search for users with specific bios\n",
    "c.Lang = 'en'               # search for tweets in a specific language (en, ar, de, etc...)\n",
    "c.Limit = 9999              # limit how many tweets to search for\n"
   ]
  },
  {
   "cell_type": "code",
   "execution_count": 306,
   "metadata": {},
   "outputs": [],
   "source": [
    "# use Pandas library\n",
    "c.Pandas = True"
   ]
  },
  {
   "cell_type": "markdown",
   "metadata": {},
   "source": [
    "Displays the tweets as it is searching."
   ]
  },
  {
   "cell_type": "code",
   "execution_count": null,
   "metadata": {},
   "outputs": [],
   "source": [
    "# start searching\n",
    "twint.run.Search(c)"
   ]
  },
  {
   "cell_type": "markdown",
   "metadata": {},
   "source": [
    "Using Pandas, you can choose different data (attributes) add to your .csv file by selecting from the following columns."
   ]
  },
  {
   "cell_type": "code",
   "execution_count": null,
   "metadata": {},
   "outputs": [
    {
     "data": {
      "text/plain": [
       "Index(['id', 'conversation_id', 'created_at', 'date', 'timezone', 'place',\n",
       "       'tweet', 'language', 'hashtags', 'cashtags', 'user_id', 'user_id_str',\n",
       "       'username', 'name', 'day', 'hour', 'link', 'urls', 'photos', 'video',\n",
       "       'thumbnail', 'retweet', 'nlikes', 'nreplies', 'nretweets', 'quote_url',\n",
       "       'search', 'near', 'geo', 'source', 'user_rt_id', 'user_rt',\n",
       "       'retweet_id', 'reply_to', 'retweet_date', 'translate', 'trans_src',\n",
       "       'trans_dest'],\n",
       "      dtype='object')"
      ]
     },
     "execution_count": 301,
     "metadata": {},
     "output_type": "execute_result"
    }
   ],
   "source": [
    "\n",
    "def column_names():\n",
    "    return twint.output.panda.Tweets_df.columns\n",
    "def twint_to_pd(columns):\n",
    "    return twint.output.panda.Tweets_df[columns]\n",
    "\n",
    "# display available columns\n",
    "column_names()\n"
   ]
  },
  {
   "cell_type": "code",
   "execution_count": null,
   "metadata": {},
   "outputs": [],
   "source": [
    "\n",
    "# you can add or remove any columns to your file from the previous available columns\n",
    "tweet_df = twint_to_pd([\"date\", \"tweet\", \"nlikes\", \"nreplies\", \"nretweets\", \"reply_to\"])   # selected columns\n",
    "\n",
    "tweet_df.head(10)\n",
    "print(len(tweet_df))\n",
    "\n",
    "#save dataset locally\n",
    "tweet_df.to_csv( text + '.csv')\n"
   ]
  }
 ],
 "metadata": {
  "language_info": {
   "name": "python"
  },
  "orig_nbformat": 4
 },
 "nbformat": 4,
 "nbformat_minor": 2
}
